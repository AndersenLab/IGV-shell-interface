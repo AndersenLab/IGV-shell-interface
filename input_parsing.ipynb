{
 "cells": [
  {
   "cell_type": "code",
   "execution_count": 2,
   "metadata": {},
   "outputs": [
    {
     "data": {
      "text/plain": [
       "['CB4858', 'DL238', 'XZ1515', 'XZ1516', 'XZ1514']"
      ]
     },
     "execution_count": 2,
     "metadata": {},
     "output_type": "execute_result"
    }
   ],
   "source": [
    "import pandas as pd\n",
    "testfile = 'for_garth.vcf'\n",
    "df = pd.read_table(testfile, skiprows=57)\n",
    "df = df.rename(columns={'#CHROM':'CHROM'})\n",
    "#df = df.rename(columns = {0:'chromosome', 1:'start_position', 2:'name', 3:'sequence', 4:'replacement'})\n",
    "#df['end_position'] = df[7].map(lambda x: (x).split(';')[4][4:]).astype(int)\n",
    "#df['length'] = df['end_position'] - df['start_position']\n",
    "\n",
    "df['END'] = df['INFO'].map(lambda x: x.split(';')[4][4:])\n",
    "\n",
    "[s for s in df.columns if s not in ['CHROM', 'POS', 'ID', 'REF', 'ALT', 'QUAL', 'FILTER', 'INFO', 'FORMAT', 'END']]"
   ]
  },
  {
   "cell_type": "code",
   "execution_count": null,
   "metadata": {
    "collapsed": true
   },
   "outputs": [],
   "source": []
  }
 ],
 "metadata": {
  "kernelspec": {
   "display_name": "Python 3",
   "language": "python",
   "name": "python3"
  },
  "language_info": {
   "codemirror_mode": {
    "name": "ipython",
    "version": 3
   },
   "file_extension": ".py",
   "mimetype": "text/x-python",
   "name": "python",
   "nbconvert_exporter": "python",
   "pygments_lexer": "ipython3",
   "version": "3.6.1"
  }
 },
 "nbformat": 4,
 "nbformat_minor": 2
}
